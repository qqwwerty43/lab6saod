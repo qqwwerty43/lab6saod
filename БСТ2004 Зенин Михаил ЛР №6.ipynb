{
  "nbformat": 4,
  "nbformat_minor": 0,
  "metadata": {
    "colab": {
      "name": "Lab6.ipynb",
      "provenance": [],
      "collapsed_sections": []
    },
    "kernelspec": {
      "name": "python3",
      "display_name": "Python 3"
    },
    "language_info": {
      "name": "python"
    }
  },
  "cells": [
    {
      "cell_type": "markdown",
      "source": [
        "# Лабораторная работа 6. \n",
        "# Сетевые алгоритмы. Динамические алгоритмы поиска путей.\n"
      ],
      "metadata": {
        "id": "0z3KlfKDn4_K"
      }
    },
    {
      "cell_type": "markdown",
      "source": [
        "## Выполнил студент группы БСТ2004 Зенин Михаил Витальевич\n",
        "***"
      ],
      "metadata": {
        "id": "96Gi_LEvmSVH"
      }
    },
    {
      "cell_type": "markdown",
      "source": [
        "### Задание\n",
        "\n",
        "1.  Реализовать алгоритм поиска кратчайшего расстояния между двумя вершинами ориентированного взвешенного графа в соответствии с вариантом. \n",
        "\n",
        "2.  Предусмотреть задание графа в виде матрицы смежности/инцидентности, читаемой из файла, либо графически с помощью пользовательского интерфейса. \n",
        "\n",
        "3.  Разработать графический интерфейс пользователя с визуализацией графа и отображением кратчайшего расстояния между задаваемыми пользователем вершинами.\n",
        "\n",
        "4. По результатам работы проанализировать временную сложность работы заданного алгоритма в зависимости от числа узлов и ребер графа.\n",
        "Данные представить в виде таблицы.\n",
        "\n"
      ],
      "metadata": {
        "id": "GjdIp8aToKIe"
      }
    },
    {
      "cell_type": "markdown",
      "source": [
        "### Варианты заданий:\n",
        "\n",
        "Вариант | Задание\n",
        ":-------- |:-----\n",
        "1, 7, 13, 19, 25 | Алгоритм Флойда-Уоршелла\n",
        "2, 8, 14, 20, 26 | Алгоритм Дейкстры\n",
        "3, 9,15,21,27 | Алгоритм Беллмана-Форда\n",
        "4, 10, 16, 22, 28 | Алгоритм Джонсона\n",
        "5, 11, 17, 23, 29| Алгоритм Левита\n",
        "6, 12, 18, 24, 30 | Алгоритм Йена\n",
        "\n"
      ],
      "metadata": {
        "id": "LhhUXrAmotIA"
      }
    },
    {
      "cell_type": "markdown",
      "source": [
        "### Выполнение:"
      ],
      "metadata": {
        "id": "Wggfn8l7nG72"
      }
    },
    {
      "cell_type": "code",
      "source": [
        "from networkx.algorithms.smallworld import random_reference\n",
        "import numpy as np\n",
        "from networkx import DiGraph\n",
        "import networkx\n",
        "import random\n",
        "from queue import Queue\n",
        "import time\n",
        "\n",
        "def graph_generator(num_of_nodes = 5,num_of_edge = 7):\n",
        "    if num_of_edge < num_of_nodes:\n",
        "        return Exception(\"Graph is not connected\")\n",
        "    else:\n",
        "        nodes = []\n",
        "        # генерируем названия узлов\n",
        "        nodes = list(range(0,num_of_nodes))\n",
        "        iter = 0\n",
        "        # создаем пустой граф\n",
        "        graph = DiGraph()\n",
        "        graph.add_nodes_from(nodes)\n",
        "        while iter < num_of_edge:\n",
        "            start = random.choice(nodes)\n",
        "            end = random.choice(nodes)\n",
        "            if ((start,end) in graph) or (start == end):\n",
        "                continue\n",
        "            else:\n",
        "                weight = random.choice(range(1,10))            \n",
        "                graph.add_edge(start,end)\n",
        "                graph[start][end]['weight'] = weight\n",
        "            iter = iter + 1\n",
        "        networkx.draw_circular(graph,\n",
        "         node_color='red',\n",
        "         node_size=1000,\n",
        "         with_labels=True)\n",
        "    return graph\n",
        "\n",
        "def Levit(graph,s = 0):\n",
        "    # инициализируем нужные нам множества и очереди\n",
        "    M = set()\n",
        "    M1_main = Queue()\n",
        "    M1_urgent = Queue()\n",
        "    M1 = set()\n",
        "    M2 = set()\n",
        "    # помещаем заданную вершину в срочную очередь\n",
        "    M1_urgent.put(s)\n",
        "    M1.add(s)\n",
        "    # помещаем все остальные вершины в множество M2\n",
        "    for node in graph.nodes:\n",
        "        if node != s:\n",
        "            M2.add(node)\n",
        "    # создаем список кратчайших путей от заданной вершины до остальных\n",
        "    d = [float('inf')] * (len(graph.nodes))\n",
        "    d[s] = 0\n",
        "    list_of_edges = list(graph.edges)\n",
        "    #while M1_main.empty() or M1_urgent.empty():\n",
        "    while len(M1) != 0:\n",
        "        if not M1_urgent.empty():\n",
        "            u = M1_urgent.get()\n",
        "            M1.remove(u)\n",
        "        else: \n",
        "            u = M1_main.get()\n",
        "            M1.remove(u)\n",
        "        # Получаем вершины, соединенные с текущим ребром\n",
        "        le = list(filter(lambda x: x[0] == u,list_of_edges))\n",
        "        if not le:\n",
        "            M.add(u)\n",
        "            if len(M2) != 0:\n",
        "                next_node = list(M2)[0]\n",
        "                M1_main.put(next_node)\n",
        "                M1.add(next_node)\n",
        "                M2.remove(next_node)\n",
        "            else:\n",
        "                break\n",
        "        k = []\n",
        "        for i in range(len(le)):\n",
        "            k.append(le[i][1])\n",
        "        for i in range(len(le)):    \n",
        "            for v in k:\n",
        "                if v in M2:\n",
        "                    M2.remove(v)\n",
        "                    M1_main.put(v)\n",
        "                    M1.add(v)\n",
        "                    d[v] = d[u] + graph[u][v]['weight']\n",
        "                elif v in M1:\n",
        "                    d[v] = min(d[v],d[u] + graph[u][v]['weight'])\n",
        "                elif v in M:\n",
        "                    if d[v] > d[u] + graph[u][v]['weight']:\n",
        "                        d[v] = d[u] + graph[u][v]['weight']\n",
        "                        M1_urgent.put(v)\n",
        "                        M1.add(v)\n",
        "                        M.remove(v)\n",
        "        M.add(u)\n",
        "    for i in range(len(d)):\n",
        "        if d[i] == float('inf'):\n",
        "            d[i] = 0\n",
        "    return d    \n",
        "\n",
        "if __name__ == \"__main__\":\n",
        "    g = graph_generator()\n",
        "    print('Edges:',g.edges)\n",
        "    startTime = time.time()\n",
        "    p = Levit(g,0)\n",
        "    endTime = time.time()\n",
        "    print(\"Result sizes of ways:\",p)    \n",
        "    print(\"Weights of edges:\")\n",
        "    for i in g.edges:\n",
        "        print(i,g[i[0]][i[1]]['weight'])\n",
        "    print(\"Время работы:\",endTime - startTime,\"seconds\")"
      ],
      "metadata": {
        "id": "681a95mZnOSa",
        "colab": {
          "base_uri": "https://localhost:8080/",
          "height": 510
        },
        "outputId": "475ad01d-0daf-484f-f05f-8bc17f205220"
      },
      "execution_count": null,
      "outputs": [
        {
          "output_type": "stream",
          "name": "stdout",
          "text": [
            "Edges: [(0, 2), (0, 4), (1, 3), (2, 1), (3, 1), (3, 0), (4, 2)]\n",
            "Result sizes of ways: [0, 15, 7, 18, 6]\n",
            "Weights of edges:\n",
            "(0, 2) 7\n",
            "(0, 4) 6\n",
            "(1, 3) 3\n",
            "(2, 1) 8\n",
            "(3, 1) 7\n",
            "(3, 0) 8\n",
            "(4, 2) 5\n",
            "Время работы: 0.0002357959747314453 seconds\n"
          ]
        },
        {
          "output_type": "display_data",
          "data": {
            "text/plain": [
              "<Figure size 432x288 with 1 Axes>"
            ],
            "image/png": "[encoded data removed]"
          },
          "metadata": {}
        }
      ]
    },
    {
      "cell_type": "markdown",
      "source": [
        "### Вывод\n",
        "Мною были рассмотены основные алгоритмы поиска путей и сетевые алгоритмы"
      ],
      "metadata": {
        "id": "diOb-K7LnO5a"
      }
    }
  ]
}